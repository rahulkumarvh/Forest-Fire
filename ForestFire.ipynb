{
  "nbformat": 4,
  "nbformat_minor": 0,
  "metadata": {
    "colab": {
      "name": "ForestFire.ipynb",
      "provenance": [],
      "collapsed_sections": [],
      "authorship_tag": "ABX9TyP00Ulj8y8vmVaCrTMtH5b+",
      "include_colab_link": true
    },
    "kernelspec": {
      "name": "python3",
      "display_name": "Python 3"
    },
    "language_info": {
      "name": "python"
    }
  },
  "cells": [
    {
      "cell_type": "markdown",
      "metadata": {
        "id": "view-in-github",
        "colab_type": "text"
      },
      "source": [
        "<a href=\"https://colab.research.google.com/github/rahulkumarvh/Forest-Fire/blob/main/ForestFire.ipynb\" target=\"_parent\"><img src=\"https://colab.research.google.com/assets/colab-badge.svg\" alt=\"Open In Colab\"/></a>"
      ]
    },
    {
      "cell_type": "markdown",
      "metadata": {
        "id": "m_Sqhp_NxfoS"
      },
      "source": [
        "# **UCI Machine Learning Repository - Forest Fire Analysis**"
      ]
    },
    {
      "cell_type": "code",
      "metadata": {
        "id": "YdbQcMTybnLu"
      },
      "source": [
        "import pandas as pd\n",
        "import seaborn as sns\n",
        "import matplotlib.pyplot as plt"
      ],
      "execution_count": 23,
      "outputs": []
    },
    {
      "cell_type": "code",
      "metadata": {
        "id": "5xSthuGqc2PI"
      },
      "source": [
        "fire = pd.read_csv('forestfires.csv')"
      ],
      "execution_count": 9,
      "outputs": []
    },
    {
      "cell_type": "code",
      "metadata": {
        "colab": {
          "base_uri": "https://localhost:8080/",
          "height": 206
        },
        "id": "YSmkWl38c8oa",
        "outputId": "3ee70058-c3ee-496a-856b-aafe4d8baa99"
      },
      "source": [
        "fire.head(5)"
      ],
      "execution_count": 32,
      "outputs": [
        {
          "output_type": "execute_result",
          "data": {
            "text/html": [
              "<div>\n",
              "<style scoped>\n",
              "    .dataframe tbody tr th:only-of-type {\n",
              "        vertical-align: middle;\n",
              "    }\n",
              "\n",
              "    .dataframe tbody tr th {\n",
              "        vertical-align: top;\n",
              "    }\n",
              "\n",
              "    .dataframe thead th {\n",
              "        text-align: right;\n",
              "    }\n",
              "</style>\n",
              "<table border=\"1\" class=\"dataframe\">\n",
              "  <thead>\n",
              "    <tr style=\"text-align: right;\">\n",
              "      <th></th>\n",
              "      <th>X</th>\n",
              "      <th>Y</th>\n",
              "      <th>month</th>\n",
              "      <th>day</th>\n",
              "      <th>FFMC</th>\n",
              "      <th>DMC</th>\n",
              "      <th>DC</th>\n",
              "      <th>ISI</th>\n",
              "      <th>temp</th>\n",
              "      <th>RH</th>\n",
              "      <th>wind</th>\n",
              "      <th>rain</th>\n",
              "      <th>area</th>\n",
              "    </tr>\n",
              "  </thead>\n",
              "  <tbody>\n",
              "    <tr>\n",
              "      <th>0</th>\n",
              "      <td>7</td>\n",
              "      <td>5</td>\n",
              "      <td>mar</td>\n",
              "      <td>fri</td>\n",
              "      <td>86.2</td>\n",
              "      <td>26.2</td>\n",
              "      <td>94.3</td>\n",
              "      <td>5.1</td>\n",
              "      <td>8.2</td>\n",
              "      <td>51</td>\n",
              "      <td>6.7</td>\n",
              "      <td>0.0</td>\n",
              "      <td>0.0</td>\n",
              "    </tr>\n",
              "    <tr>\n",
              "      <th>1</th>\n",
              "      <td>7</td>\n",
              "      <td>4</td>\n",
              "      <td>oct</td>\n",
              "      <td>tue</td>\n",
              "      <td>90.6</td>\n",
              "      <td>35.4</td>\n",
              "      <td>669.1</td>\n",
              "      <td>6.7</td>\n",
              "      <td>18.0</td>\n",
              "      <td>33</td>\n",
              "      <td>0.9</td>\n",
              "      <td>0.0</td>\n",
              "      <td>0.0</td>\n",
              "    </tr>\n",
              "    <tr>\n",
              "      <th>2</th>\n",
              "      <td>7</td>\n",
              "      <td>4</td>\n",
              "      <td>oct</td>\n",
              "      <td>sat</td>\n",
              "      <td>90.6</td>\n",
              "      <td>43.7</td>\n",
              "      <td>686.9</td>\n",
              "      <td>6.7</td>\n",
              "      <td>14.6</td>\n",
              "      <td>33</td>\n",
              "      <td>1.3</td>\n",
              "      <td>0.0</td>\n",
              "      <td>0.0</td>\n",
              "    </tr>\n",
              "    <tr>\n",
              "      <th>3</th>\n",
              "      <td>8</td>\n",
              "      <td>6</td>\n",
              "      <td>mar</td>\n",
              "      <td>fri</td>\n",
              "      <td>91.7</td>\n",
              "      <td>33.3</td>\n",
              "      <td>77.5</td>\n",
              "      <td>9.0</td>\n",
              "      <td>8.3</td>\n",
              "      <td>97</td>\n",
              "      <td>4.0</td>\n",
              "      <td>0.2</td>\n",
              "      <td>0.0</td>\n",
              "    </tr>\n",
              "    <tr>\n",
              "      <th>4</th>\n",
              "      <td>8</td>\n",
              "      <td>6</td>\n",
              "      <td>mar</td>\n",
              "      <td>sun</td>\n",
              "      <td>89.3</td>\n",
              "      <td>51.3</td>\n",
              "      <td>102.2</td>\n",
              "      <td>9.6</td>\n",
              "      <td>11.4</td>\n",
              "      <td>99</td>\n",
              "      <td>1.8</td>\n",
              "      <td>0.0</td>\n",
              "      <td>0.0</td>\n",
              "    </tr>\n",
              "  </tbody>\n",
              "</table>\n",
              "</div>"
            ],
            "text/plain": [
              "   X  Y month  day  FFMC   DMC     DC  ISI  temp  RH  wind  rain  area\n",
              "0  7  5   mar  fri  86.2  26.2   94.3  5.1   8.2  51   6.7   0.0   0.0\n",
              "1  7  4   oct  tue  90.6  35.4  669.1  6.7  18.0  33   0.9   0.0   0.0\n",
              "2  7  4   oct  sat  90.6  43.7  686.9  6.7  14.6  33   1.3   0.0   0.0\n",
              "3  8  6   mar  fri  91.7  33.3   77.5  9.0   8.3  97   4.0   0.2   0.0\n",
              "4  8  6   mar  sun  89.3  51.3  102.2  9.6  11.4  99   1.8   0.0   0.0"
            ]
          },
          "metadata": {},
          "execution_count": 32
        }
      ]
    },
    {
      "cell_type": "code",
      "metadata": {
        "colab": {
          "base_uri": "https://localhost:8080/"
        },
        "id": "Nv0k9XSpdDzv",
        "outputId": "95fa31cc-8a80-4e39-e7f5-20cce5d3ea3f"
      },
      "source": [
        "fire.info()"
      ],
      "execution_count": 5,
      "outputs": [
        {
          "output_type": "stream",
          "name": "stdout",
          "text": [
            "<class 'pandas.core.frame.DataFrame'>\n",
            "RangeIndex: 517 entries, 0 to 516\n",
            "Data columns (total 13 columns):\n",
            " #   Column  Non-Null Count  Dtype  \n",
            "---  ------  --------------  -----  \n",
            " 0   X       517 non-null    int64  \n",
            " 1   Y       517 non-null    int64  \n",
            " 2   month   517 non-null    object \n",
            " 3   day     517 non-null    object \n",
            " 4   FFMC    517 non-null    float64\n",
            " 5   DMC     517 non-null    float64\n",
            " 6   DC      517 non-null    float64\n",
            " 7   ISI     517 non-null    float64\n",
            " 8   temp    517 non-null    float64\n",
            " 9   RH      517 non-null    int64  \n",
            " 10  wind    517 non-null    float64\n",
            " 11  rain    517 non-null    float64\n",
            " 12  area    517 non-null    float64\n",
            "dtypes: float64(8), int64(3), object(2)\n",
            "memory usage: 52.6+ KB\n"
          ]
        }
      ]
    },
    {
      "cell_type": "code",
      "metadata": {
        "colab": {
          "base_uri": "https://localhost:8080/",
          "height": 457
        },
        "id": "G-LHVO_vvZl7",
        "outputId": "b5e52f29-f87a-4b6c-cfc4-061e8fc20c8f"
      },
      "source": [
        "byMonth = fire.groupby('month')\n",
        "mean = byMonth.mean()\n",
        "mean"
      ],
      "execution_count": 123,
      "outputs": [
        {
          "output_type": "execute_result",
          "data": {
            "text/html": [
              "<div>\n",
              "<style scoped>\n",
              "    .dataframe tbody tr th:only-of-type {\n",
              "        vertical-align: middle;\n",
              "    }\n",
              "\n",
              "    .dataframe tbody tr th {\n",
              "        vertical-align: top;\n",
              "    }\n",
              "\n",
              "    .dataframe thead th {\n",
              "        text-align: right;\n",
              "    }\n",
              "</style>\n",
              "<table border=\"1\" class=\"dataframe\">\n",
              "  <thead>\n",
              "    <tr style=\"text-align: right;\">\n",
              "      <th></th>\n",
              "      <th>X</th>\n",
              "      <th>Y</th>\n",
              "      <th>FFMC</th>\n",
              "      <th>DMC</th>\n",
              "      <th>DC</th>\n",
              "      <th>ISI</th>\n",
              "      <th>temp</th>\n",
              "      <th>RH</th>\n",
              "      <th>wind</th>\n",
              "      <th>rain</th>\n",
              "      <th>area</th>\n",
              "    </tr>\n",
              "    <tr>\n",
              "      <th>month</th>\n",
              "      <th></th>\n",
              "      <th></th>\n",
              "      <th></th>\n",
              "      <th></th>\n",
              "      <th></th>\n",
              "      <th></th>\n",
              "      <th></th>\n",
              "      <th></th>\n",
              "      <th></th>\n",
              "      <th></th>\n",
              "      <th></th>\n",
              "    </tr>\n",
              "  </thead>\n",
              "  <tbody>\n",
              "    <tr>\n",
              "      <th>apr</th>\n",
              "      <td>5.777778</td>\n",
              "      <td>4.222222</td>\n",
              "      <td>85.788889</td>\n",
              "      <td>15.911111</td>\n",
              "      <td>48.555556</td>\n",
              "      <td>5.377778</td>\n",
              "      <td>12.044444</td>\n",
              "      <td>46.888889</td>\n",
              "      <td>4.666667</td>\n",
              "      <td>0.000000</td>\n",
              "      <td>8.891111</td>\n",
              "    </tr>\n",
              "    <tr>\n",
              "      <th>aug</th>\n",
              "      <td>4.483696</td>\n",
              "      <td>4.282609</td>\n",
              "      <td>92.336957</td>\n",
              "      <td>153.732609</td>\n",
              "      <td>641.077717</td>\n",
              "      <td>11.072283</td>\n",
              "      <td>21.631522</td>\n",
              "      <td>45.489130</td>\n",
              "      <td>4.086413</td>\n",
              "      <td>0.058696</td>\n",
              "      <td>12.489076</td>\n",
              "    </tr>\n",
              "    <tr>\n",
              "      <th>dec</th>\n",
              "      <td>4.555556</td>\n",
              "      <td>5.000000</td>\n",
              "      <td>84.966667</td>\n",
              "      <td>26.122222</td>\n",
              "      <td>351.244444</td>\n",
              "      <td>3.466667</td>\n",
              "      <td>4.522222</td>\n",
              "      <td>38.444444</td>\n",
              "      <td>7.644444</td>\n",
              "      <td>0.000000</td>\n",
              "      <td>13.330000</td>\n",
              "    </tr>\n",
              "    <tr>\n",
              "      <th>feb</th>\n",
              "      <td>5.150000</td>\n",
              "      <td>4.400000</td>\n",
              "      <td>82.905000</td>\n",
              "      <td>9.475000</td>\n",
              "      <td>54.670000</td>\n",
              "      <td>3.350000</td>\n",
              "      <td>9.635000</td>\n",
              "      <td>55.700000</td>\n",
              "      <td>3.755000</td>\n",
              "      <td>0.000000</td>\n",
              "      <td>6.275000</td>\n",
              "    </tr>\n",
              "    <tr>\n",
              "      <th>jan</th>\n",
              "      <td>3.000000</td>\n",
              "      <td>4.500000</td>\n",
              "      <td>50.400000</td>\n",
              "      <td>2.400000</td>\n",
              "      <td>90.350000</td>\n",
              "      <td>1.450000</td>\n",
              "      <td>5.250000</td>\n",
              "      <td>89.000000</td>\n",
              "      <td>2.000000</td>\n",
              "      <td>0.000000</td>\n",
              "      <td>0.000000</td>\n",
              "    </tr>\n",
              "    <tr>\n",
              "      <th>jul</th>\n",
              "      <td>5.218750</td>\n",
              "      <td>4.593750</td>\n",
              "      <td>91.328125</td>\n",
              "      <td>110.387500</td>\n",
              "      <td>450.603125</td>\n",
              "      <td>9.393750</td>\n",
              "      <td>22.109375</td>\n",
              "      <td>45.125000</td>\n",
              "      <td>3.734375</td>\n",
              "      <td>0.006250</td>\n",
              "      <td>14.369687</td>\n",
              "    </tr>\n",
              "    <tr>\n",
              "      <th>jun</th>\n",
              "      <td>6.294118</td>\n",
              "      <td>4.823529</td>\n",
              "      <td>89.429412</td>\n",
              "      <td>93.382353</td>\n",
              "      <td>297.705882</td>\n",
              "      <td>11.776471</td>\n",
              "      <td>20.494118</td>\n",
              "      <td>45.117647</td>\n",
              "      <td>4.135294</td>\n",
              "      <td>0.000000</td>\n",
              "      <td>5.841176</td>\n",
              "    </tr>\n",
              "    <tr>\n",
              "      <th>mar</th>\n",
              "      <td>4.722222</td>\n",
              "      <td>4.481481</td>\n",
              "      <td>89.444444</td>\n",
              "      <td>34.542593</td>\n",
              "      <td>75.942593</td>\n",
              "      <td>7.107407</td>\n",
              "      <td>13.083333</td>\n",
              "      <td>40.000000</td>\n",
              "      <td>4.968519</td>\n",
              "      <td>0.003704</td>\n",
              "      <td>4.356667</td>\n",
              "    </tr>\n",
              "    <tr>\n",
              "      <th>may</th>\n",
              "      <td>5.000000</td>\n",
              "      <td>4.000000</td>\n",
              "      <td>87.350000</td>\n",
              "      <td>26.700000</td>\n",
              "      <td>93.750000</td>\n",
              "      <td>4.600000</td>\n",
              "      <td>14.650000</td>\n",
              "      <td>67.000000</td>\n",
              "      <td>4.450000</td>\n",
              "      <td>0.000000</td>\n",
              "      <td>19.240000</td>\n",
              "    </tr>\n",
              "    <tr>\n",
              "      <th>nov</th>\n",
              "      <td>6.000000</td>\n",
              "      <td>3.000000</td>\n",
              "      <td>79.500000</td>\n",
              "      <td>3.000000</td>\n",
              "      <td>106.700000</td>\n",
              "      <td>1.100000</td>\n",
              "      <td>11.800000</td>\n",
              "      <td>31.000000</td>\n",
              "      <td>4.500000</td>\n",
              "      <td>0.000000</td>\n",
              "      <td>0.000000</td>\n",
              "    </tr>\n",
              "    <tr>\n",
              "      <th>oct</th>\n",
              "      <td>5.866667</td>\n",
              "      <td>4.333333</td>\n",
              "      <td>90.453333</td>\n",
              "      <td>41.420000</td>\n",
              "      <td>681.673333</td>\n",
              "      <td>7.146667</td>\n",
              "      <td>17.093333</td>\n",
              "      <td>37.466667</td>\n",
              "      <td>3.460000</td>\n",
              "      <td>0.000000</td>\n",
              "      <td>6.638000</td>\n",
              "    </tr>\n",
              "    <tr>\n",
              "      <th>sep</th>\n",
              "      <td>4.383721</td>\n",
              "      <td>4.116279</td>\n",
              "      <td>91.243023</td>\n",
              "      <td>120.922674</td>\n",
              "      <td>734.615698</td>\n",
              "      <td>8.577326</td>\n",
              "      <td>19.612209</td>\n",
              "      <td>42.843023</td>\n",
              "      <td>3.557558</td>\n",
              "      <td>0.000000</td>\n",
              "      <td>17.942616</td>\n",
              "    </tr>\n",
              "  </tbody>\n",
              "</table>\n",
              "</div>"
            ],
            "text/plain": [
              "              X         Y       FFMC  ...      wind      rain       area\n",
              "month                                 ...                               \n",
              "apr    5.777778  4.222222  85.788889  ...  4.666667  0.000000   8.891111\n",
              "aug    4.483696  4.282609  92.336957  ...  4.086413  0.058696  12.489076\n",
              "dec    4.555556  5.000000  84.966667  ...  7.644444  0.000000  13.330000\n",
              "feb    5.150000  4.400000  82.905000  ...  3.755000  0.000000   6.275000\n",
              "jan    3.000000  4.500000  50.400000  ...  2.000000  0.000000   0.000000\n",
              "jul    5.218750  4.593750  91.328125  ...  3.734375  0.006250  14.369687\n",
              "jun    6.294118  4.823529  89.429412  ...  4.135294  0.000000   5.841176\n",
              "mar    4.722222  4.481481  89.444444  ...  4.968519  0.003704   4.356667\n",
              "may    5.000000  4.000000  87.350000  ...  4.450000  0.000000  19.240000\n",
              "nov    6.000000  3.000000  79.500000  ...  4.500000  0.000000   0.000000\n",
              "oct    5.866667  4.333333  90.453333  ...  3.460000  0.000000   6.638000\n",
              "sep    4.383721  4.116279  91.243023  ...  3.557558  0.000000  17.942616\n",
              "\n",
              "[12 rows x 11 columns]"
            ]
          },
          "metadata": {},
          "execution_count": 123
        }
      ]
    },
    {
      "cell_type": "code",
      "metadata": {
        "colab": {
          "base_uri": "https://localhost:8080/",
          "height": 315
        },
        "id": "38I0LRHlf74o",
        "outputId": "9e70a062-afcd-4477-b8e3-7deeb9b293fb"
      },
      "source": [
        "sns.heatmap(mean, cmap=\"flare\")\n",
        "plt.title('Forest Fire')"
      ],
      "execution_count": 127,
      "outputs": [
        {
          "output_type": "execute_result",
          "data": {
            "text/plain": [
              "Text(0.5, 1.0, 'Forest Fire')"
            ]
          },
          "metadata": {},
          "execution_count": 127
        },
        {
          "output_type": "display_data",
          "data": {
            "image/png": "[encoded data removed]",
            "text/plain": [
              "<Figure size 432x288 with 2 Axes>"
            ]
          },
          "metadata": {
            "needs_background": "light"
          }
        }
      ]
    },
    {
      "cell_type": "markdown",
      "metadata": {
        "id": "mv76Z4bgyEF1"
      },
      "source": [
        "**From the above heat map we can conclude that the months of September, August, December, June and July show an elevated values in FFMC,DMC,DC,RH comapared to other months**"
      ]
    },
    {
      "cell_type": "code",
      "metadata": {
        "colab": {
          "base_uri": "https://localhost:8080/",
          "height": 298
        },
        "id": "ZXGbVP2EpRYY",
        "outputId": "e14fa354-1f15-4fb5-87ef-690349830df9"
      },
      "source": [
        "sns.barplot(x='month', y='area', data=fire)"
      ],
      "execution_count": 96,
      "outputs": [
        {
          "output_type": "execute_result",
          "data": {
            "text/plain": [
              "<matplotlib.axes._subplots.AxesSubplot at 0x7f8d76d17090>"
            ]
          },
          "metadata": {},
          "execution_count": 96
        },
        {
          "output_type": "display_data",
          "data": {
            "image/png": "[encoded data removed]",
            "text/plain": [
              "<Figure size 432x288 with 1 Axes>"
            ]
          },
          "metadata": {
            "needs_background": "light"
          }
        }
      ]
    },
    {
      "cell_type": "markdown",
      "metadata": {
        "id": "AgYiDcC2y2cx"
      },
      "source": [
        "**The month of May had the forestfire with the most impact**"
      ]
    },
    {
      "cell_type": "code",
      "metadata": {
        "colab": {
          "base_uri": "https://localhost:8080/",
          "height": 458
        },
        "id": "31FE8gAaldC9",
        "outputId": "1fe80e4c-8b34-4bc7-870b-b5b47878f984"
      },
      "source": [
        "sns.jointplot(x=fire.month, y=fire.area)"
      ],
      "execution_count": 82,
      "outputs": [
        {
          "output_type": "execute_result",
          "data": {
            "text/plain": [
              "<seaborn.axisgrid.JointGrid at 0x7f8d771378d0>"
            ]
          },
          "metadata": {},
          "execution_count": 82
        },
        {
          "output_type": "display_data",
          "data": {
            "image/png": "[encoded data removed]",
            "text/plain": [
              "<Figure size 432x432 with 3 Axes>"
            ]
          },
          "metadata": {
            "needs_background": "light"
          }
        }
      ]
    },
    {
      "cell_type": "code",
      "metadata": {
        "colab": {
          "base_uri": "https://localhost:8080/",
          "height": 458
        },
        "id": "iZ9MqqLboJbl",
        "outputId": "e11d6da7-d0e1-4d25-8500-0cfedd9de8b1"
      },
      "source": [
        "sns.jointplot(x='wind', y='ISI', data=fire, kind='reg')"
      ],
      "execution_count": 71,
      "outputs": [
        {
          "output_type": "execute_result",
          "data": {
            "text/plain": [
              "<seaborn.axisgrid.JointGrid at 0x7f8d7a659ed0>"
            ]
          },
          "metadata": {},
          "execution_count": 71
        },
        {
          "output_type": "display_data",
          "data": {
            "image/png": "[encoded data removed]",
            "text/plain": [
              "<Figure size 432x432 with 3 Axes>"
            ]
          },
          "metadata": {
            "needs_background": "light"
          }
        }
      ]
    },
    {
      "cell_type": "code",
      "metadata": {
        "colab": {
          "base_uri": "https://localhost:8080/",
          "height": 388
        },
        "id": "GF0ZZJxKhDbk",
        "outputId": "814e4cea-5b4e-4b12-e17f-ffc187ec9cf7"
      },
      "source": [
        "sns.distplot(a=fire['area'], bins=30, kde=False)"
      ],
      "execution_count": 58,
      "outputs": [
        {
          "output_type": "stream",
          "name": "stderr",
          "text": [
            "/usr/local/lib/python3.7/dist-packages/seaborn/distributions.py:2619: FutureWarning:\n",
            "\n",
            "`distplot` is a deprecated function and will be removed in a future version. Please adapt your code to use either `displot` (a figure-level function with similar flexibility) or `histplot` (an axes-level function for histograms).\n",
            "\n"
          ]
        },
        {
          "output_type": "execute_result",
          "data": {
            "text/plain": [
              "<matplotlib.axes._subplots.AxesSubplot at 0x7f8d7cb93fd0>"
            ]
          },
          "metadata": {},
          "execution_count": 58
        },
        {
          "output_type": "display_data",
          "data": {
            "image/png": "[encoded data removed]",
            "text/plain": [
              "<Figure size 432x288 with 1 Axes>"
            ]
          },
          "metadata": {
            "needs_background": "light"
          }
        }
      ]
    },
    {
      "cell_type": "code",
      "metadata": {
        "colab": {
          "base_uri": "https://localhost:8080/",
          "height": 386
        },
        "id": "eZfVoDwJdKDZ",
        "outputId": "97213920-7e3e-43ad-e516-0b95edf4d672"
      },
      "source": [
        "sns.distplot(fire['temp'] )"
      ],
      "execution_count": 89,
      "outputs": [
        {
          "output_type": "stream",
          "name": "stderr",
          "text": [
            "/usr/local/lib/python3.7/dist-packages/seaborn/distributions.py:2619: FutureWarning:\n",
            "\n",
            "`distplot` is a deprecated function and will be removed in a future version. Please adapt your code to use either `displot` (a figure-level function with similar flexibility) or `histplot` (an axes-level function for histograms).\n",
            "\n"
          ]
        },
        {
          "output_type": "execute_result",
          "data": {
            "text/plain": [
              "<matplotlib.axes._subplots.AxesSubplot at 0x7f8d76f32250>"
            ]
          },
          "metadata": {},
          "execution_count": 89
        },
        {
          "output_type": "display_data",
          "data": {
            "image/png": "[encoded data removed]",
            "text/plain": [
              "<Figure size 432x288 with 1 Axes>"
            ]
          },
          "metadata": {
            "needs_background": "light"
          }
        }
      ]
    },
    {
      "cell_type": "code",
      "metadata": {
        "id": "iuduGawIemWC"
      },
      "source": [
        ""
      ],
      "execution_count": null,
      "outputs": []
    }
  ]
}